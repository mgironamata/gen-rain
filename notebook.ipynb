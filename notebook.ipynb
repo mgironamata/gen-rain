{
 "cells": [
  {
   "cell_type": "code",
   "execution_count": 1,
   "id": "f6110da9",
   "metadata": {},
   "outputs": [],
   "source": [
    "# # Add the cloned directory to Python's path to allow importing from it\n",
    "# import sys\n",
    "# sys.path.append('./gen-rain')\n",
    "\n",
    "import torch\n",
    "\n",
    "# Now import using the valid module name with an underscore\n",
    "from data import GaussianRainfieldGenerator\n",
    "from models import JointRainDiffuser, train"
   ]
  },
  {
   "cell_type": "code",
   "execution_count": 2,
   "id": "cc61c9e4",
   "metadata": {},
   "outputs": [
    {
     "data": {
      "image/png": "[encoded data removed]",
      "text/plain": [
       "<Figure size 640x480 with 2 Axes>"
      ]
     },
     "metadata": {},
     "output_type": "display_data"
    }
   ],
   "source": [
    "# ----------------------------------------------------------------\n",
    "# Example usage inside Colab\n",
    "# ----------------------------------------------------------------\n",
    "if __name__ == \"__main__\":\n",
    "    gen = GaussianRainfieldGenerator(\n",
    "        grid_height = 64, grid_width = 64,\n",
    "        length_scale = 0.1, wet_threshold = 0.4,\n",
    "        amount_dist = \"gamma\", gamma_shape = 1.5, gamma_scale = 8.0, \n",
    "    )\n",
    "\n",
    "    # draw a single field to verify\n",
    "    field = gen.sample_precip(n_samples=1,occurrence_only=True)[0,0]  # (H, W)\n",
    "\n",
    "    # quick visual check (works in notebooks):\n",
    "    import matplotlib.pyplot as plt\n",
    "    plt.imshow(field.cpu(), origin=\"lower\")\n",
    "    plt.colorbar(label=\"mm\")\n",
    "    plt.title(\"Synthetic daily rainfall\")\n",
    "    plt.show()"
   ]
  },
  {
   "cell_type": "code",
   "execution_count": 3,
   "id": "03460322",
   "metadata": {},
   "outputs": [],
   "source": [
    "from torch.utils.data import DataLoader\n",
    "rainset = gen.make_dataset(10_000)           # 10k synthetic days\n",
    "loader  = DataLoader(rainset, batch_size=64, shuffle=True, pin_memory=True)"
   ]
  },
  {
   "cell_type": "code",
   "execution_count": 17,
   "id": "891402c5",
   "metadata": {},
   "outputs": [],
   "source": [
    "device = 'cuda' if torch.cuda.is_available() else 'cpu'\n",
    "\n",
    "# ---- synthetic dataset from previous step --------------\n",
    "# from synthetic_rain import GaussianRainfieldGenerator   # same file / import\n",
    "gen = GaussianRainfieldGenerator(grid_height=16, grid_width=16)\n",
    "rainset = gen.make_dataset(1000)\n",
    "loader  = DataLoader(rainset, batch_size=64, shuffle=True,\n",
    "                      num_workers=0, pin_memory=True)"
   ]
  },
  {
   "cell_type": "code",
   "execution_count": null,
   "id": "65ff3bac",
   "metadata": {},
   "outputs": [
    {
     "name": "stdout",
     "output_type": "stream",
     "text": [
      "Epoch 01: Lmask=0.6937 | Lamt=0.9860\n",
      "Epoch 02: Lmask=0.6922 | Lamt=0.9633\n",
      "Epoch 03: Lmask=0.6911 | Lamt=0.9355\n",
      "Epoch 04: Lmask=0.6898 | Lamt=0.9245\n",
      "Epoch 05: Lmask=0.6862 | Lamt=0.8778\n",
      "Epoch 06: Lmask=0.6816 | Lamt=0.8475\n",
      "Epoch 07: Lmask=0.6712 | Lamt=0.8371\n",
      "Epoch 08: Lmask=0.6537 | Lamt=0.7927\n",
      "Epoch 09: Lmask=0.6285 | Lamt=0.7787\n",
      "Epoch 10: Lmask=0.6080 | Lamt=0.7452\n"
     ]
    }
   ],
   "source": [
    "# ---- train ---------------------------------------------\n",
    "model = JointRainDiffuser(T=1000, device=device)\n",
    "train(model, loader, epochs=10, lr=1e-4, lam=10.0, device=device)"
   ]
  },
  {
   "cell_type": "code",
   "execution_count": null,
   "id": "375f708b",
   "metadata": {},
   "outputs": [],
   "source": [
    "# ---- sampling ------------------------------------------\n",
    "@torch.no_grad()\n",
    "def sample(model, n=4):\n",
    "    H = W = 64\n",
    "    # --- 1) sample mask via reverse discrete process ----\n",
    "    x_t = torch.randint(0,2,(n,1,H,W), device=device)    # start from noise\n",
    "    for t in reversed(range(1,model.disc.T+1)):\n",
    "        t_batch = torch.full((n,), t, device=device)\n",
    "        t_emb = time_embedding(t_batch, H, W, device)\n",
    "        logits = model.unet_mask(torch.cat([x_t.float(), t_emb],1), 0)\n",
    "        probs  = F.softmax(logits, 1)[:,1:2]             # prob(wet)\n",
    "        x0_pred = (probs > 0.5).float()\n",
    "        # simplistic posterior sample: copy pred\n",
    "        x_t = x0_pred\n",
    "    mask = x_t                                           # (n,1,H,W)\n",
    "    # --- 2) sample intensity conditioned on mask --------\n",
    "    y_t = torch.randn_like(mask)                         # Gaussian noise\n",
    "    for t in reversed(range(1,model.cont.T+1)):\n",
    "        t_b = torch.full((n,), t, device=device)\n",
    "        t_emb = time_embedding(t_b, H, W, device)\n",
    "        cond = torch.cat([y_t, mask], 1)\n",
    "        eps_hat = model.unet_rain(torch.cat([cond, t_emb],1), 0)\n",
    "        alpha_t = model.cont.alpha[t_b].view(-1,1,1,1)\n",
    "        alpha_bar_t = model.cont.alpha_bar[t_b].view(-1,1,1,1)\n",
    "        y0_pred = (y_t - (1 - alpha_t).sqrt() * eps_hat) / alpha_t.sqrt()\n",
    "        if t > 1:\n",
    "            noise = torch.randn_like(y_t)\n",
    "            y_t = alpha_t.sqrt() * y0_pred + (1-alpha_t).sqrt() * noise\n",
    "        else:\n",
    "            y_t = y0_pred\n",
    "    return (y_t * mask).cpu()             # final precip field\n",
    "\n",
    "fields = sample(model, n=4)               # (4,1,64,64)\n",
    "\n",
    "import matplotlib.pyplot as plt\n",
    "for i in range(4):\n",
    "    plt.subplot(2,2,i+1); plt.imshow(fields[i,0], origin='lower')\n",
    "    plt.axis('off')\n",
    "plt.suptitle(\"Jointly-generated synthetic precipitation\")\n",
    "plt.show()"
   ]
  },
  {
   "cell_type": "code",
   "execution_count": null,
   "id": "691aa4f1",
   "metadata": {},
   "outputs": [],
   "source": [
    "# ---- sampling ------------------------------------------\n",
    "@torch.no_grad()\n",
    "def sample(model, n=4):\n",
    "    H = W = 16\n",
    "    # --- 1) sample mask via reverse discrete process ----\n",
    "    x_t = torch.randint(0,2,(n,1,H,W), device=device)    # start from noise\n",
    "    for t in reversed(range(1,model.disc.T+1)):\n",
    "        t_batch = torch.full((n,), t, device=device)\n",
    "        t_emb = time_embedding(t_batch, H, W, device)\n",
    "        logits = model.unet_mask(torch.cat([x_t.float(), t_emb],1), 0)\n",
    "        probs  = F.softmax(logits, 1)[:,1:2]             # prob(wet)\n",
    "        x0_pred = (probs > 0.5).float()\n",
    "        # simplistic posterior sample: copy pred\n",
    "        x_t = x0_pred\n",
    "    mask = x_t                                           # (n,1,H,W)\n",
    "    # --- 2) sample intensity conditioned on mask --------\n",
    "    y_t = torch.randn_like(mask)                         # Gaussian noise\n",
    "    for t in reversed(range(1,model.cont.T+1)):\n",
    "        t_b = torch.full((n,), t, device=device)\n",
    "        t_emb = time_embedding(t_b, H, W, device)\n",
    "        cond = torch.cat([y_t, mask], 1)\n",
    "        eps_hat = model.unet_rain(torch.cat([cond, t_emb],1), 0)\n",
    "        alpha_t = model.cont.alpha[t_b].view(-1,1,1,1)\n",
    "        alpha_bar_t = model.cont.alpha_bar[t_b].view(-1,1,1,1)\n",
    "        y0_pred = (y_t - (1 - alpha_t).sqrt() * eps_hat) / alpha_t.sqrt()\n",
    "        if t > 1:\n",
    "            noise = torch.randn_like(y_t)\n",
    "            y_t = alpha_t.sqrt() * y0_pred + (1-alpha_t).sqrt() * noise\n",
    "        else:\n",
    "            y_t = y0_pred\n",
    "    return (y_t * mask).cpu()             # final precip field\n",
    "\n",
    "fields = sample(model, n=4)               # (4,1,64,64)\n",
    "\n",
    "import matplotlib.pyplot as plt\n",
    "for i in range(4):\n",
    "    plt.subplot(2,2,i+1); plt.imshow(fields[i,0], origin='lower')\n",
    "    plt.axis('off')\n",
    "plt.suptitle(\"Jointly-generated synthetic precipitation\")\n",
    "plt.show()"
   ]
  },
  {
   "cell_type": "code",
   "execution_count": null,
   "id": "c7a36879",
   "metadata": {},
   "outputs": [],
   "source": [
    "# ----------------------------------------------------------------\n",
    "# Example usage inside Colab\n",
    "# ----------------------------------------------------------------\n",
    "if __name__ == \"__main__\":\n",
    "    gen = GaussianRainfieldGenerator(\n",
    "        grid_height = 16, grid_width = 16,\n",
    "        length_scale = 0.1, wet_threshold = 0.4,\n",
    "        amount_dist = \"gamma\", gamma_shape = 1.5, gamma_scale = 8.0,\n",
    "    )\n",
    "\n",
    "    # draw a single field to verify\n",
    "    field = gen.sample_precip(1)[0,0]  # (H, W)\n",
    "\n",
    "    # quick visual check (works in notebooks):\n",
    "    import matplotlib.pyplot as plt\n",
    "    plt.imshow(field.cpu(), origin=\"lower\")\n",
    "    plt.colorbar(label=\"mm\")\n",
    "    plt.title(\"Synthetic daily rainfall\")\n",
    "    plt.show()"
   ]
  }
 ],
 "metadata": {
  "kernelspec": {
   "display_name": "gen-rain",
   "language": "python",
   "name": "python3"
  },
  "language_info": {
   "codemirror_mode": {
    "name": "ipython",
    "version": 3
   },
   "file_extension": ".py",
   "mimetype": "text/x-python",
   "name": "python",
   "nbconvert_exporter": "python",
   "pygments_lexer": "ipython3",
   "version": "3.12.11"
  }
 },
 "nbformat": 4,
 "nbformat_minor": 5
}
